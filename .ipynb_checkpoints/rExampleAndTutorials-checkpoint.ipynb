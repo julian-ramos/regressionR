{
 "cells": [
  {
   "cell_type": "markdown",
   "metadata": {},
   "source": [
    "# R basics\n",
    "[Swirl](https://swirlstats.com/)\n",
    "This is a command line library for R that walks you through the R functionality\n",
    "\n",
    "\n",
    "\n",
    "\n",
    "# R tutorials and examples for anova\n",
    "\n",
    "[boosted ML](https://boostedml.com/) I met tha author at the MSFT Ph.D. summit and he has this awesome blog with basics on regression and other modelling and prediction stuff in R. \n",
    "\n",
    "\n",
    "[Introduction to R formulas](https://www.datacamp.com/community/tutorials/r-formula-tutorial)\n",
    "Formulas look like x~a+b\n",
    "\n",
    "[Time series analysis and other great examples](http://r-statistics.co/Time-Series-Analysis-With-R.html)\n",
    "It covers a lot of basics but I had not seen any other link covering time series data\n",
    "\n",
    "[An introduction to ANOVA in R](https://stat.ethz.ch/~meier/teaching/anova/block-designs.html) This is an excelent web book that covers basic and some advanced anova.\n",
    "\n",
    "[Repeated measures anova example 1](https://datascienceplus.com/two-way-anova-with-repeated-measures/)\n",
    "Not great but it shows some of the basics, they do not explain formula and some of the code seems like it can be written in a simpler way  [example 2](https://ademos.people.uic.edu/Chapter21.html), [example 3](http://yatani.jp/teaching/doku.php?id=hcistats:anova) from Yatani's website and another [example 4](https://ademos.people.uic.edu/Chapter21.html). And in the next [link](http://web.pdx.edu/~newsomj/pa551/lecture8.htm) is explained the difference(there is not) between within subjects and paired samples studies. This [link](https://stats.idre.ucla.edu/r/seminars/repeated-measures-analysis-with-r/) covers 4 different examples.\n",
    "\n",
    "[Very dense R style documentation](https://www.sas.upenn.edu/~baron/from_cattell/rpsych/rpsych.html#htoc17)\n",
    "It covers a lot of material but I got here searching for how Error() works in regression models\n",
    "\n",
    "[R basics](https://r4ds.had.co.nz/model-basics.html)\n",
    "Nothing fancy, just the basics\n",
    "\n",
    "[Various anova examples](http://www.cookbook-r.com/Statistical_analysis/ANOVA/)\n",
    "It likely has other interesting material since it is a cookbook\n",
    "\n",
    "[Autocorrelation and anova](https://rcompanion.org/handbook/I_09.html)\n",
    "This link shows how to include an autocorrelation factor in an anova analysis, have not seen anything like this in anyother place neither I'm not sure how combining these kind of factors makes any sense and the validity of this type of analysis. \n",
    "\n",
    "[Non-parametric anova](https://github.com/mjskay/ARTool) This link goes to an R package that transforms continues values into ranks and then uses anova. The method is non-parametric and does not have many assumptions and it is claimed to be a better fit than friedman for repeated measures non-parameteric anova with 2 or more factors. The next is [another example](https://seriousstats.wordpress.com/tag/rank-transformation/) that covers rank transformation and then usage of lme instead of the friedman for ANOVA.\n",
    "\n",
    "# Regression book\n",
    "[Very good regression book](https://bookdown.org/roback/bookdown-bysh/ch-beyondmost.html) covering linear regression, multiple linear regression, HLMs and others.\n",
    "\n",
    "# Hierarchical linear models\n",
    "[Basics](http://www.r-tutor.com/gpu-computing/rbayes/rhierlmc)\n",
    "\n",
    "[HLMS with the dragons data set](https://ourcodingclub.github.io/2017/03/15/mixed-models.html#one) This one is a very good tutorial. It covers a more intuitive explanation of when and how to use HLMs.\n",
    "\n",
    "\n",
    "\n",
    "# Usual assumptions for different statistical tests and models\n",
    "\n",
    "1. Independence, The observations are usually assumed independent\n",
    "2. Normality, data was generated from a normal distribution\n",
    "> The shaphiro wilk is probably the most popular [link](https://stat.ethz.ch/R-manual/R-devel/library/stats/html/shapiro.test.html)\n",
    "3. Homoskedasticity (only applies to between subjects design), Variance of all of the variables is finite and it is the same\n",
    "> The tests for heterskedastivity are: The Breush-Pagan test and the NCV test. here a [link](https://www.r-bloggers.com/how-to-detect-heteroscedasticity-and-rectify-it/)\n",
    "4. Sphericity: This is the equivalent to the homoskedasticity but for within subjects designs. Here is a good explanation and code [link](https://statistics.laerd.com/statistical-guides/sphericity-statistical-guide.php)\n",
    "4. Collinearity: A variable is a linear combination of other variables\n",
    "> [Tests](https://cran.r-project.org/web/packages/olsrr/vignettes/regression_diagnostics.html)\n",
    "Also another way to beadl with it is just to use a Ridge regression\n",
    "\n",
    "# Other tests\n",
    "1. [*Tukey's range test*](https://en.wikipedia.org/wiki/Tukey's_range_test) : This test makes pairwise t-tests of all available variables. The anova can tell whether there is a significant difference in means but not where, tukey tells you exactly that.\n",
    "\n"
   ]
  },
  {
   "cell_type": "code",
   "execution_count": null,
   "metadata": {},
   "outputs": [],
   "source": []
  }
 ],
 "metadata": {
  "hide_input": false,
  "kernelspec": {
   "display_name": "R",
   "language": "R",
   "name": "ir"
  },
  "language_info": {
   "codemirror_mode": "r",
   "file_extension": ".r",
   "mimetype": "text/x-r-source",
   "name": "R",
   "pygments_lexer": "r",
   "version": "3.6.1"
  },
  "toc": {
   "base_numbering": 1,
   "nav_menu": {},
   "number_sections": true,
   "sideBar": true,
   "skip_h1_title": false,
   "title_cell": "Table of Contents",
   "title_sidebar": "Contents",
   "toc_cell": false,
   "toc_position": {},
   "toc_section_display": true,
   "toc_window_display": false
  },
  "varInspector": {
   "cols": {
    "lenName": 16,
    "lenType": 16,
    "lenVar": 40
   },
   "kernels_config": {
    "python": {
     "delete_cmd_postfix": "",
     "delete_cmd_prefix": "del ",
     "library": "var_list.py",
     "varRefreshCmd": "print(var_dic_list())"
    },
    "r": {
     "delete_cmd_postfix": ") ",
     "delete_cmd_prefix": "rm(",
     "library": "var_list.r",
     "varRefreshCmd": "cat(var_dic_list()) "
    }
   },
   "types_to_exclude": [
    "module",
    "function",
    "builtin_function_or_method",
    "instance",
    "_Feature"
   ],
   "window_display": false
  }
 },
 "nbformat": 4,
 "nbformat_minor": 2
}
