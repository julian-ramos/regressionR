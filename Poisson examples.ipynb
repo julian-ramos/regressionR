{
 "cells": [
  {
   "cell_type": "markdown",
   "metadata": {},
   "source": [
    "# Poisson regression examples\n",
    "\n",
    "The code I used in this example comes from [link](https://www.dataquest.io/blog/tutorial-poisson-regression-in-r/)\n",
    "\n",
    "Another very good example comes from [link](https://stats.idre.ucla.edu/r/dae/poisson-regression/)"
   ]
  },
  {
   "cell_type": "code",
   "execution_count": 47,
   "metadata": {},
   "outputs": [
    {
     "name": "stdout",
     "output_type": "stream",
     "text": [
      "'data.frame':\t54 obs. of  3 variables:\n",
      " $ breaks : num  26 30 54 25 70 52 51 26 67 18 ...\n",
      " $ wool   : Factor w/ 2 levels \"A\",\"B\": 1 1 1 1 1 1 1 1 1 1 ...\n",
      " $ tension: Factor w/ 3 levels \"L\",\"M\",\"H\": 1 1 1 1 1 1 1 1 1 2 ...\n"
     ]
    },
    {
     "data": {
      "text/plain": [
       "\n",
       "Call:\n",
       "glm(formula = breaks ~ wool + tension, family = poisson(link = \"log\"), \n",
       "    data = data)\n",
       "\n",
       "Deviance Residuals: \n",
       "    Min       1Q   Median       3Q      Max  \n",
       "-3.6871  -1.6503  -0.4269   1.1902   4.2616  \n",
       "\n",
       "Coefficients:\n",
       "            Estimate Std. Error z value Pr(>|z|)    \n",
       "(Intercept)  3.69196    0.04541  81.302  < 2e-16 ***\n",
       "woolB       -0.20599    0.05157  -3.994 6.49e-05 ***\n",
       "tensionM    -0.32132    0.06027  -5.332 9.73e-08 ***\n",
       "tensionH    -0.51849    0.06396  -8.107 5.21e-16 ***\n",
       "---\n",
       "Signif. codes:  0 ‘***’ 0.001 ‘**’ 0.01 ‘*’ 0.05 ‘.’ 0.1 ‘ ’ 1\n",
       "\n",
       "(Dispersion parameter for poisson family taken to be 1)\n",
       "\n",
       "    Null deviance: 297.37  on 53  degrees of freedom\n",
       "Residual deviance: 210.39  on 50  degrees of freedom\n",
       "AIC: 493.06\n",
       "\n",
       "Number of Fisher Scoring iterations: 4\n"
      ]
     },
     "metadata": {},
     "output_type": "display_data"
    }
   ],
   "source": [
    "library(datasets) # include library datasets after installation\n",
    "data=warpbreaks\n",
    "columns=names(data)\n",
    "library(arm)\n",
    "library(interactions)\n",
    "# install.packages(\"jtools\")\n",
    "# install.packages(\"broom\")\n",
    "# install.packages(\"ggstance\")\n",
    "\n",
    "library(jtools)\n",
    "library(broom)\n",
    "library(ggstance)\n",
    "\n",
    "str(warpbreaks)\n",
    "poisson.model=glm(breaks ~ wool + tension, data, family = poisson(link = \"log\"))\n",
    "# hist(data$breaks)\n",
    "summary(poisson.model)\n",
    "\n"
   ]
  },
  {
   "cell_type": "code",
   "execution_count": 48,
   "metadata": {},
   "outputs": [
    {
     "data": {
      "text/plain": [
       "\n",
       "Call:\n",
       "glm(formula = breaks ~ wool + tension, family = quasipoisson(link = \"log\"), \n",
       "    data = data)\n",
       "\n",
       "Deviance Residuals: \n",
       "    Min       1Q   Median       3Q      Max  \n",
       "-3.6871  -1.6503  -0.4269   1.1902   4.2616  \n",
       "\n",
       "Coefficients:\n",
       "            Estimate Std. Error t value Pr(>|t|)    \n",
       "(Intercept)  3.69196    0.09374  39.384  < 2e-16 ***\n",
       "woolB       -0.20599    0.10646  -1.935 0.058673 .  \n",
       "tensionM    -0.32132    0.12441  -2.583 0.012775 *  \n",
       "tensionH    -0.51849    0.13203  -3.927 0.000264 ***\n",
       "---\n",
       "Signif. codes:  0 ‘***’ 0.001 ‘**’ 0.01 ‘*’ 0.05 ‘.’ 0.1 ‘ ’ 1\n",
       "\n",
       "(Dispersion parameter for quasipoisson family taken to be 4.261537)\n",
       "\n",
       "    Null deviance: 297.37  on 53  degrees of freedom\n",
       "Residual deviance: 210.39  on 50  degrees of freedom\n",
       "AIC: NA\n",
       "\n",
       "Number of Fisher Scoring iterations: 4\n"
      ]
     },
     "metadata": {},
     "output_type": "display_data"
    }
   ],
   "source": [
    "poisson.model2=glm(breaks ~ wool + tension, data = data, family = quasipoisson(link = \"log\"))\n",
    "summary(poisson.model2)"
   ]
  },
  {
   "cell_type": "code",
   "execution_count": 49,
   "metadata": {},
   "outputs": [
    {
     "data": {
      "text/html": [
       "<table>\n",
       "<caption>A matrix: 4 × 5 of type dbl</caption>\n",
       "<thead>\n",
       "\t<tr><th></th><th scope=col>coef1</th><th scope=col>se.coef1</th><th scope=col>coef2</th><th scope=col>se.coef2</th><th scope=col>exponent</th></tr>\n",
       "</thead>\n",
       "<tbody>\n",
       "\t<tr><th scope=row>(Intercept)</th><td> 3.6919631</td><td>0.04541069</td><td> 3.6919631</td><td>0.09374352</td><td>40.1235380</td></tr>\n",
       "\t<tr><th scope=row>woolB</th><td>-0.2059884</td><td>0.05157117</td><td>-0.2059884</td><td>0.10646089</td><td> 0.8138425</td></tr>\n",
       "\t<tr><th scope=row>tensionM</th><td>-0.3213204</td><td>0.06026580</td><td>-0.3213204</td><td>0.12440965</td><td> 0.7251908</td></tr>\n",
       "\t<tr><th scope=row>tensionH</th><td>-0.5184885</td><td>0.06395944</td><td>-0.5184885</td><td>0.13203462</td><td> 0.5954198</td></tr>\n",
       "</tbody>\n",
       "</table>\n"
      ],
      "text/latex": [
       "A matrix: 4 × 5 of type dbl\n",
       "\\begin{tabular}{r|lllll}\n",
       "  & coef1 & se.coef1 & coef2 & se.coef2 & exponent\\\\\n",
       "\\hline\n",
       "\t(Intercept) &  3.6919631 & 0.04541069 &  3.6919631 & 0.09374352 & 40.1235380\\\\\n",
       "\twoolB & -0.2059884 & 0.05157117 & -0.2059884 & 0.10646089 &  0.8138425\\\\\n",
       "\ttensionM & -0.3213204 & 0.06026580 & -0.3213204 & 0.12440965 &  0.7251908\\\\\n",
       "\ttensionH & -0.5184885 & 0.06395944 & -0.5184885 & 0.13203462 &  0.5954198\\\\\n",
       "\\end{tabular}\n"
      ],
      "text/markdown": [
       "\n",
       "A matrix: 4 × 5 of type dbl\n",
       "\n",
       "| <!--/--> | coef1 | se.coef1 | coef2 | se.coef2 | exponent |\n",
       "|---|---|---|---|---|---|\n",
       "| (Intercept) |  3.6919631 | 0.04541069 |  3.6919631 | 0.09374352 | 40.1235380 |\n",
       "| woolB | -0.2059884 | 0.05157117 | -0.2059884 | 0.10646089 |  0.8138425 |\n",
       "| tensionM | -0.3213204 | 0.06026580 | -0.3213204 | 0.12440965 |  0.7251908 |\n",
       "| tensionH | -0.5184885 | 0.06395944 | -0.5184885 | 0.13203462 |  0.5954198 |\n",
       "\n"
      ],
      "text/plain": [
       "            coef1      se.coef1   coef2      se.coef2   exponent  \n",
       "(Intercept)  3.6919631 0.04541069  3.6919631 0.09374352 40.1235380\n",
       "woolB       -0.2059884 0.05157117 -0.2059884 0.10646089  0.8138425\n",
       "tensionM    -0.3213204 0.06026580 -0.3213204 0.12440965  0.7251908\n",
       "tensionH    -0.5184885 0.06395944 -0.5184885 0.13203462  0.5954198"
      ]
     },
     "metadata": {},
     "output_type": "display_data"
    }
   ],
   "source": [
    "# extract coefficients from first model using 'coef()'\n",
    "coef1 = coef(poisson.model)\n",
    "\n",
    "# extract coefficients from second model\n",
    "coef2 = coef(poisson.model2)\n",
    "\n",
    "# extract standard errors from first model using 'se.coef()'\n",
    "se.coef1 = se.coef(poisson.model)\n",
    "\n",
    "# extract standard errors from second model\n",
    "se.coef2 = se.coef(poisson.model2)\n",
    "\n",
    "# use 'cbind()' to combine values into one dataframe\n",
    "models.both =cbind(coef1, se.coef1, coef2, se.coef2, exponent = exp(coef1))\n",
    "\n",
    "# show dataframe\n",
    "models.both"
   ]
  },
  {
   "cell_type": "code",
   "execution_count": 50,
   "metadata": {},
   "outputs": [
    {
     "data": {
      "text/html": [
       "<strong>1:</strong> 23.6805555556308"
      ],
      "text/latex": [
       "\\textbf{1:} 23.6805555556308"
      ],
      "text/markdown": [
       "**1:** 23.6805555556308"
      ],
      "text/plain": [
       "       1 \n",
       "23.68056 "
      ]
     },
     "metadata": {},
     "output_type": "display_data"
    }
   ],
   "source": [
    "newdata = data.frame(wool = \"B\", tension = \"M\")\n",
    "\n",
    "# use 'predict()' to run model on new data\n",
    "predict(poisson.model2, newdata = newdata, type = \"response\")"
   ]
  },
  {
   "cell_type": "code",
   "execution_count": 55,
   "metadata": {},
   "outputs": [],
   "source": [
    "library(jtools)\n",
    "\n",
    "# plot_summs(poisson.model2, scale = TRUE, exp = TRUE)"
   ]
  },
  {
   "cell_type": "code",
   "execution_count": 56,
   "metadata": {},
   "outputs": [],
   "source": [
    "# plot_summs(poisson.model, poisson.model2, scale = TRUE, exp = TRUE)\n"
   ]
  },
  {
   "cell_type": "code",
   "execution_count": 57,
   "metadata": {},
   "outputs": [],
   "source": [
    "# cat_plot(poisson.model2, pred = tension, modx = wool, geom = \"line\")\n"
   ]
  },
  {
   "cell_type": "code",
   "execution_count": 54,
   "metadata": {},
   "outputs": [
    {
     "name": "stderr",
     "output_type": "stream",
     "text": [
      "Warning message:\n",
      "“\u001b[38;5;214mtension and wool are not included in an interaction with one another in the\n",
      "model.\u001b[39m”"
     ]
    },
    {
     "data": {
      "image/png": "[encoded data removed]",
      "text/plain": [
       "plot without title"
      ]
     },
     "metadata": {},
     "output_type": "display_data"
    }
   ],
   "source": [
    "cat_plot(poisson.model2, pred = tension, modx = wool, geom = \"line\", plot.points = TRUE)\n"
   ]
  },
  {
   "cell_type": "code",
   "execution_count": null,
   "metadata": {},
   "outputs": [],
   "source": []
  }
 ],
 "metadata": {
  "hide_input": false,
  "kernelspec": {
   "display_name": "R",
   "language": "R",
   "name": "ir"
  },
  "language_info": {
   "codemirror_mode": "r",
   "file_extension": ".r",
   "mimetype": "text/x-r-source",
   "name": "R",
   "pygments_lexer": "r",
   "version": "3.6.1"
  },
  "toc": {
   "base_numbering": 1,
   "nav_menu": {},
   "number_sections": true,
   "sideBar": true,
   "skip_h1_title": false,
   "title_cell": "Table of Contents",
   "title_sidebar": "Contents",
   "toc_cell": false,
   "toc_position": {},
   "toc_section_display": true,
   "toc_window_display": false
  },
  "varInspector": {
   "cols": {
    "lenName": 16,
    "lenType": 16,
    "lenVar": 40
   },
   "kernels_config": {
    "python": {
     "delete_cmd_postfix": "",
     "delete_cmd_prefix": "del ",
     "library": "var_list.py",
     "varRefreshCmd": "print(var_dic_list())"
    },
    "r": {
     "delete_cmd_postfix": ") ",
     "delete_cmd_prefix": "rm(",
     "library": "var_list.r",
     "varRefreshCmd": "cat(var_dic_list()) "
    }
   },
   "types_to_exclude": [
    "module",
    "function",
    "builtin_function_or_method",
    "instance",
    "_Feature"
   ],
   "window_display": false
  }
 },
 "nbformat": 4,
 "nbformat_minor": 2
}
